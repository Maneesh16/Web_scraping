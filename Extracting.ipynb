{
 "cells": [
  {
   "cell_type": "code",
   "execution_count": 2,
   "metadata": {},
   "outputs": [],
   "source": [
    "import requests\n",
    "import bs4\n",
    "from bs4 import BeautifulSoup\n",
    "import re\n",
    "from datetime import datetime"
   ]
  },
  {
   "cell_type": "code",
   "execution_count": 57,
   "metadata": {},
   "outputs": [],
   "source": [
    "seasons=['2018_2019','2017_2018','2016_2017','2015_2016',]"
   ]
  },
  {
   "cell_type": "code",
   "execution_count": 59,
   "metadata": {},
   "outputs": [
    {
     "name": "stdout",
     "output_type": "stream",
     "text": [
      "2018_2019\n",
      "2017_2018\n",
      "2016_2017\n",
      "2015_2016\n"
     ]
    }
   ],
   "source": [
    "teamstats=[]\n",
    "opp_teamstats=[]\n",
    "possession=[]\n",
    "coach=[]\n",
    "formations=[]\n",
    "total=[]\n",
    "other=[]\n",
    "\n",
    "for season in seasons: # for each season\n",
    "    for matchday in range(1,39): # for each match day\n",
    "        main_page_url='https://en.as.com/resultados/futbol/primera/'+str(season)+'/jornada/regular_a_'+str(matchday)+'/'\n",
    "        main_page=requests.get(main_page_url)\n",
    "        mainpage_soup=BeautifulSoup(main_page.text)\n",
    "        \n",
    "            \n",
    "        match_url=mainpage_soup.find_all('a',class_='resultado')  # for getting each match url\n",
    "        urls=[]\n",
    "        for match in match_url:\n",
    "            urls.append(str(match).split('\"')[3])\n",
    "        \n",
    "        for matchsite in urls:\n",
    "            site='https://en.as.com'+matchsite.replace('\\'','')+'estadisticas/' # match statistics site\n",
    "            stats=requests.get(site)                                    \n",
    "            statsoup=BeautifulSoup(stats.text)\n",
    "            somestats=statsoup.find_all('span',class_='valor-estadistico')\n",
    "            \n",
    "            testat=[]   # team stats\n",
    "            oppstat=[]   # opp team stats\n",
    "            for num,tex in enumerate(somestats):\n",
    "                if num%2==0:\n",
    "                    testat.append(tex.text)\n",
    "                else:\n",
    "                    oppstat.append(tex.text)\n",
    "            teamstats.append(testat)\n",
    "            opp_teamstats.append(oppstat)\n",
    "            \n",
    "            ################ possession ############            \n",
    "            poss=[]\n",
    "            pos=statsoup.find_all('span',class_='porcentaje-posesion')\n",
    "            for numb in pos:\n",
    "                poss.append(numb.text)\n",
    "            possession.append(poss)\n",
    "            \n",
    "            \n",
    "        for matchsite1 in urls:\n",
    "            formurl='https://en.as.com'+matchsite1.replace('\\'','')+'previa/'  # formations site\n",
    "            form=requests.get(formurl)\n",
    "            formsoup=BeautifulSoup(form.text)            \n",
    "            \n",
    "            ################ formations ##############\n",
    "            forma=formsoup.find_all('p',class_='tactica') \n",
    "            formati=[]\n",
    "            for form1 in forma:\n",
    "                formati.append(form1.text)\n",
    "            formations.append(formati)\n",
    "            \n",
    "            ############# coaches ################            \n",
    "            coa=formsoup.find_all('p',class_='entrenador')\n",
    "            co=[]\n",
    "            for coac in coa:\n",
    "                co.append(coac.text)\n",
    "            coach.append(co)\n",
    "            \n",
    "            ###### for score,stadium,date,teams #############\n",
    "            sco=formsoup.find_all('div',class_='dir-result')\n",
    "            for tot in sco:\n",
    "                total.append(tot.text)\n",
    "            \n",
    "            oth=formsoup.find_all('div',class_='cont-previa-datos cf')\n",
    "            for ot in oth:\n",
    "                other.append(ot.text)\n",
    "            \n",
    "    print(season)\n",
    "            \n",
    "# match statistics names\n",
    "\n",
    "statistics_name=[]\n",
    "stn=statsoup.find_all('div',class_='col-datos')\n",
    "for name in stn:\n",
    "    statistics_name.append(str(name.text).strip())\n"
   ]
  },
  {
   "cell_type": "code",
   "execution_count": null,
   "metadata": {},
   "outputs": [],
   "source": [
    "df=pd.DataFrame(teamstats,columns=statistics_name)\n",
    "df1=pd.DataFrame(opp_teamstats,columns=statistics_name)\n",
    "df3=pd.DataFrame(possession)\n",
    "df4=pd.DataFrame(coach)\n",
    "df5=pd.DataFrame(formations)"
   ]
  },
  {
   "cell_type": "code",
   "execution_count": 65,
   "metadata": {},
   "outputs": [],
   "source": [
    "pd.DataFrame(total).to_excel('total.xlsx')\n",
    "pd.DataFrame(other).to_excel('other.xlsx')\n",
    "df.to_excel('teamstats.xlsx',)\n",
    "df1.to_excel('oppstats.xlsx')\n",
    "df3.to_excel('possession.xlsx')\n",
    "df4.to_excel('newcoaches.xlsx')\n",
    "df5.to_excel('formations.xlsx')"
   ]
  },
  {
   "cell_type": "code",
   "execution_count": null,
   "metadata": {},
   "outputs": [],
   "source": []
  }
 ],
 "metadata": {
  "kernelspec": {
   "display_name": "Python 3",
   "language": "python",
   "name": "python3"
  },
  "language_info": {
   "codemirror_mode": {
    "name": "ipython",
    "version": 3
   },
   "file_extension": ".py",
   "mimetype": "text/x-python",
   "name": "python",
   "nbconvert_exporter": "python",
   "pygments_lexer": "ipython3",
   "version": "3.7.3"
  }
 },
 "nbformat": 4,
 "nbformat_minor": 2
}
