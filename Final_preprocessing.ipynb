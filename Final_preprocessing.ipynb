{
 "cells": [
  {
   "cell_type": "code",
   "execution_count": 1,
   "metadata": {},
   "outputs": [],
   "source": [
    "import pandas as pd\n",
    "import numpy as np\n",
    "import matplotlib.pyplot as plt\n",
    "import seaborn as sns"
   ]
  },
  {
   "cell_type": "code",
   "execution_count": 2,
   "metadata": {},
   "outputs": [],
   "source": [
    "coaches=pd.read_excel('newcoaches.xlsx').drop(columns='Unnamed: 0')"
   ]
  },
  {
   "cell_type": "code",
   "execution_count": 3,
   "metadata": {},
   "outputs": [],
   "source": [
    "team_stats=pd.read_excel('teamstats.xlsx').drop(columns='Unnamed: 0')"
   ]
  },
  {
   "cell_type": "code",
   "execution_count": 4,
   "metadata": {},
   "outputs": [],
   "source": [
    "opp_stats=pd.read_excel('oppstats.xlsx').drop(columns='Unnamed: 0')"
   ]
  },
  {
   "cell_type": "code",
   "execution_count": 5,
   "metadata": {},
   "outputs": [],
   "source": [
    "form=pd.read_excel('formations.xlsx').drop(columns='Unnamed: 0')"
   ]
  },
  {
   "cell_type": "code",
   "execution_count": 6,
   "metadata": {},
   "outputs": [],
   "source": [
    "poss=pd.read_excel('possession.xlsx').drop(columns='Unnamed: 0')"
   ]
  },
  {
   "cell_type": "code",
   "execution_count": 7,
   "metadata": {},
   "outputs": [],
   "source": [
    "total=pd.read_excel('total.xlsx').drop(columns='Unnamed: 0')"
   ]
  },
  {
   "cell_type": "code",
   "execution_count": 8,
   "metadata": {},
   "outputs": [],
   "source": [
    "other=pd.read_excel('other.xlsx').drop(columns='Unnamed: 0')"
   ]
  },
  {
   "cell_type": "code",
   "execution_count": 9,
   "metadata": {},
   "outputs": [
    {
     "data": {
      "text/plain": [
       "((1505, 1), (1505, 1), (1520, 10), (1520, 10), (1520, 2), (1520, 2), (1520, 2))"
      ]
     },
     "execution_count": 9,
     "metadata": {},
     "output_type": "execute_result"
    }
   ],
   "source": [
    "total.shape,other.shape,team_stats.shape,opp_stats.shape,coaches.shape,poss.shape,form.shape"
   ]
  },
  {
   "cell_type": "code",
   "execution_count": 10,
   "metadata": {
    "scrolled": true
   },
   "outputs": [
    {
     "data": {
      "text/html": [
       "<div>\n",
       "<style scoped>\n",
       "    .dataframe tbody tr th:only-of-type {\n",
       "        vertical-align: middle;\n",
       "    }\n",
       "\n",
       "    .dataframe tbody tr th {\n",
       "        vertical-align: top;\n",
       "    }\n",
       "\n",
       "    .dataframe thead th {\n",
       "        text-align: right;\n",
       "    }\n",
       "</style>\n",
       "<table border=\"1\" class=\"dataframe\">\n",
       "  <thead>\n",
       "    <tr style=\"text-align: right;\">\n",
       "      <th></th>\n",
       "      <th>0</th>\n",
       "      <th>1</th>\n",
       "    </tr>\n",
       "  </thead>\n",
       "  <tbody>\n",
       "    <tr>\n",
       "      <th>69</th>\n",
       "      <td>NaN</td>\n",
       "      <td>NaN</td>\n",
       "    </tr>\n",
       "    <tr>\n",
       "      <th>104</th>\n",
       "      <td>NaN</td>\n",
       "      <td>NaN</td>\n",
       "    </tr>\n",
       "    <tr>\n",
       "      <th>143</th>\n",
       "      <td>NaN</td>\n",
       "      <td>NaN</td>\n",
       "    </tr>\n",
       "    <tr>\n",
       "      <th>276</th>\n",
       "      <td>NaN</td>\n",
       "      <td>NaN</td>\n",
       "    </tr>\n",
       "    <tr>\n",
       "      <th>360</th>\n",
       "      <td>NaN</td>\n",
       "      <td>NaN</td>\n",
       "    </tr>\n",
       "    <tr>\n",
       "      <th>370</th>\n",
       "      <td>NaN</td>\n",
       "      <td>NaN</td>\n",
       "    </tr>\n",
       "    <tr>\n",
       "      <th>371</th>\n",
       "      <td>NaN</td>\n",
       "      <td>NaN</td>\n",
       "    </tr>\n",
       "    <tr>\n",
       "      <th>372</th>\n",
       "      <td>NaN</td>\n",
       "      <td>NaN</td>\n",
       "    </tr>\n",
       "    <tr>\n",
       "      <th>373</th>\n",
       "      <td>NaN</td>\n",
       "      <td>NaN</td>\n",
       "    </tr>\n",
       "    <tr>\n",
       "      <th>374</th>\n",
       "      <td>NaN</td>\n",
       "      <td>NaN</td>\n",
       "    </tr>\n",
       "    <tr>\n",
       "      <th>375</th>\n",
       "      <td>NaN</td>\n",
       "      <td>NaN</td>\n",
       "    </tr>\n",
       "    <tr>\n",
       "      <th>376</th>\n",
       "      <td>NaN</td>\n",
       "      <td>NaN</td>\n",
       "    </tr>\n",
       "    <tr>\n",
       "      <th>377</th>\n",
       "      <td>NaN</td>\n",
       "      <td>NaN</td>\n",
       "    </tr>\n",
       "    <tr>\n",
       "      <th>378</th>\n",
       "      <td>NaN</td>\n",
       "      <td>NaN</td>\n",
       "    </tr>\n",
       "    <tr>\n",
       "      <th>379</th>\n",
       "      <td>NaN</td>\n",
       "      <td>NaN</td>\n",
       "    </tr>\n",
       "    <tr>\n",
       "      <th>1212</th>\n",
       "      <td>NaN</td>\n",
       "      <td>NaN</td>\n",
       "    </tr>\n",
       "  </tbody>\n",
       "</table>\n",
       "</div>"
      ],
      "text/plain": [
       "        0    1\n",
       "69    NaN  NaN\n",
       "104   NaN  NaN\n",
       "143   NaN  NaN\n",
       "276   NaN  NaN\n",
       "360   NaN  NaN\n",
       "370   NaN  NaN\n",
       "371   NaN  NaN\n",
       "372   NaN  NaN\n",
       "373   NaN  NaN\n",
       "374   NaN  NaN\n",
       "375   NaN  NaN\n",
       "376   NaN  NaN\n",
       "377   NaN  NaN\n",
       "378   NaN  NaN\n",
       "379   NaN  NaN\n",
       "1212  NaN  NaN"
      ]
     },
     "execution_count": 10,
     "metadata": {},
     "output_type": "execute_result"
    }
   ],
   "source": [
    "poss[poss.isnull().any(axis=1)]"
   ]
  },
  {
   "cell_type": "code",
   "execution_count": 11,
   "metadata": {},
   "outputs": [],
   "source": [
    "day=[]\n",
    "date=[]\n",
    "stadium=[]\n",
    "place=[]\n",
    "for num,i in enumerate(other[0]):\n",
    "    li=i.replace('\\n',' ').strip().split('  ')\n",
    "    if len(li)>12:        \n",
    "        day.append(li[3].split(',')[0])\n",
    "        date.append(li[3].split(',')[1].replace('\\t',''))\n",
    "        stadium.append(li[-4].split('-')[0])\n",
    "        place.append(li[-4].split('-')[1].replace('\\t',''))\n",
    "    else:\n",
    "        day.append(li[3].split(',')[0])\n",
    "        date.append(li[3].split(',')[1].replace('\\t',''))\n",
    "        stadium.append(li[-1].split('-')[0])\n",
    "        place.append(li[-1].split('-')[1].replace('\\t',''))"
   ]
  },
  {
   "cell_type": "code",
   "execution_count": 12,
   "metadata": {
    "scrolled": true
   },
   "outputs": [],
   "source": [
    "teams=pd.DataFrame()\n",
    "teams['Day']=day\n",
    "teams['Date']=date\n",
    "teams['Stadium']=stadium\n",
    "teams['Place']=place"
   ]
  },
  {
   "cell_type": "code",
   "execution_count": 13,
   "metadata": {},
   "outputs": [],
   "source": [
    "team=[]\n",
    "team_score=[]\n",
    "opp_team_score=[]\n",
    "opp_team=[]\n",
    "for i in total[0]:\n",
    "    te=i.replace('\\n',' ').strip().split('    ')\n",
    "    team.append(te[0])\n",
    "    team_score.append(te[1])\n",
    "    opp_team.append(te[-1])\n",
    "    opp_team_score.append(te[-3])"
   ]
  },
  {
   "cell_type": "code",
   "execution_count": 14,
   "metadata": {},
   "outputs": [],
   "source": [
    "fscores=[]\n",
    "for i in range(len(team)):\n",
    "    f=str(team_score[i])+'-'+str(opp_team_score[i])\n",
    "    fscores.append(f)"
   ]
  },
  {
   "cell_type": "code",
   "execution_count": 15,
   "metadata": {
    "scrolled": true
   },
   "outputs": [],
   "source": [
    "scores=pd.DataFrame()\n",
    "scores['Team']=team\n",
    "scores['Score']=fscores\n",
    "scores['Opp_team']=opp_team\n",
    "scores['Team_score']=team_score\n",
    "scores['Opp_team_score']=opp_team_score"
   ]
  },
  {
   "cell_type": "code",
   "execution_count": 16,
   "metadata": {
    "scrolled": true
   },
   "outputs": [],
   "source": [
    "half_team_stats=team_stats[team_stats.isnull().any(axis=1)].dropna(how='all').shift(1,axis=1).drop(columns='possession')"
   ]
  },
  {
   "cell_type": "code",
   "execution_count": 17,
   "metadata": {
    "scrolled": true
   },
   "outputs": [],
   "source": [
    "half_opp_stats=opp_stats[team_stats.isnull().any(axis=1)].dropna(how='all')\n",
    "half_opp_stats.columns=['opp_YELLOW CARDS', 'opp_RED CARDS', 'opp_FOULS WON','opp_FOULS COMMITTED', 'opp_BALL GIVEN AWAY', 'opp_BALL RECOVERED', 'opp_OFFSIDE','opp_penalties', 'opp_GOALKEEPER INTERVENTIONS','poss']\n",
    "half_opp_stats.drop(columns='poss',inplace=True)"
   ]
  },
  {
   "cell_type": "code",
   "execution_count": 18,
   "metadata": {
    "scrolled": true
   },
   "outputs": [],
   "source": [
    "first_team_stats=team_stats.dropna().drop(columns='possession')\n",
    "first_team_stats.columns=['GOALKEEPER INTERVENTIONS','YELLOW CARDS', 'RED CARDS', 'FOULS WON','FOULS COMMITTED', 'BALL GIVEN AWAY', 'BALL RECOVERED', 'OFFSIDE','penalties']"
   ]
  },
  {
   "cell_type": "code",
   "execution_count": 19,
   "metadata": {
    "scrolled": true
   },
   "outputs": [
    {
     "name": "stderr",
     "output_type": "stream",
     "text": [
      "C:\\ProgramData\\Anaconda3\\lib\\site-packages\\ipykernel_launcher.py:1: FutureWarning: Sorting because non-concatenation axis is not aligned. A future version\n",
      "of pandas will change to not sort by default.\n",
      "\n",
      "To accept the future behavior, pass 'sort=False'.\n",
      "\n",
      "To retain the current behavior and silence the warning, pass 'sort=True'.\n",
      "\n",
      "  \"\"\"Entry point for launching an IPython kernel.\n"
     ]
    }
   ],
   "source": [
    "team_full_stats=pd.concat([first_team_stats,half_team_stats])"
   ]
  },
  {
   "cell_type": "code",
   "execution_count": 20,
   "metadata": {
    "scrolled": true
   },
   "outputs": [],
   "source": [
    "first_opp_stats=opp_stats.dropna().drop(columns='possession')\n",
    "first_opp_stats.columns=['opp_GOALKEEPER INTERVENTIONS','opp_YELLOW CARDS', 'opp_RED CARDS', 'opp_FOULS WON','opp_FOULS COMMITTED', 'opp_BALL GIVEN AWAY', 'opp_BALL RECOVERED', 'opp_OFFSIDE','opp_penalties']"
   ]
  },
  {
   "cell_type": "code",
   "execution_count": 21,
   "metadata": {
    "scrolled": true
   },
   "outputs": [
    {
     "name": "stderr",
     "output_type": "stream",
     "text": [
      "C:\\ProgramData\\Anaconda3\\lib\\site-packages\\ipykernel_launcher.py:1: FutureWarning: Sorting because non-concatenation axis is not aligned. A future version\n",
      "of pandas will change to not sort by default.\n",
      "\n",
      "To accept the future behavior, pass 'sort=False'.\n",
      "\n",
      "To retain the current behavior and silence the warning, pass 'sort=True'.\n",
      "\n",
      "  \"\"\"Entry point for launching an IPython kernel.\n"
     ]
    }
   ],
   "source": [
    "opp_full_stats=pd.concat([first_opp_stats,half_opp_stats])"
   ]
  },
  {
   "cell_type": "code",
   "execution_count": 22,
   "metadata": {
    "scrolled": true
   },
   "outputs": [],
   "source": [
    "form.dropna(inplace=True)\n",
    "form.reset_index(inplace=True)\n",
    "form.drop(columns='index',inplace=True)\n",
    "form.columns=['Team_formation','opp_team_formation']"
   ]
  },
  {
   "cell_type": "code",
   "execution_count": 23,
   "metadata": {
    "scrolled": true
   },
   "outputs": [],
   "source": [
    "coaches.dropna(inplace=True)\n",
    "coaches.reset_index(inplace=True)\n",
    "coaches.drop(columns='index',inplace=True)\n",
    "coaches.columns=['Team_coach','opp_team_coach']"
   ]
  },
  {
   "cell_type": "code",
   "execution_count": 24,
   "metadata": {
    "scrolled": true
   },
   "outputs": [],
   "source": [
    "poss.dropna(inplace=True)\n",
    "poss.reset_index(inplace=True)\n",
    "poss.drop(columns='index',inplace=True)\n",
    "poss.columns=['Team_possession','opp_team_possession']"
   ]
  },
  {
   "cell_type": "code",
   "execution_count": 25,
   "metadata": {},
   "outputs": [],
   "source": [
    "opp_full_stats.reset_index(inplace=True)\n",
    "opp_full_stats.drop(columns='index',inplace=True)\n",
    "team_full_stats.reset_index(inplace=True)\n",
    "team_full_stats.drop(columns='index',inplace=True)"
   ]
  },
  {
   "cell_type": "code",
   "execution_count": 26,
   "metadata": {
    "scrolled": true
   },
   "outputs": [],
   "source": [
    "half_df=pd.concat([scores,teams,coaches,form],axis=1)\n",
    "half_df.drop(index=[1212],inplace=True)\n",
    "half_df.reset_index(inplace=True)\n",
    "half_df.drop(columns='index',inplace=True)"
   ]
  },
  {
   "cell_type": "code",
   "execution_count": 27,
   "metadata": {},
   "outputs": [],
   "source": [
    "final=pd.concat([half_df,team_full_stats,opp_full_stats],axis=1)"
   ]
  },
  {
   "cell_type": "code",
   "execution_count": 33,
   "metadata": {},
   "outputs": [
    {
     "data": {
      "text/html": [
       "<div>\n",
       "<style scoped>\n",
       "    .dataframe tbody tr th:only-of-type {\n",
       "        vertical-align: middle;\n",
       "    }\n",
       "\n",
       "    .dataframe tbody tr th {\n",
       "        vertical-align: top;\n",
       "    }\n",
       "\n",
       "    .dataframe thead th {\n",
       "        text-align: right;\n",
       "    }\n",
       "</style>\n",
       "<table border=\"1\" class=\"dataframe\">\n",
       "  <thead>\n",
       "    <tr style=\"text-align: right;\">\n",
       "      <th></th>\n",
       "      <th>Team</th>\n",
       "      <th>Score</th>\n",
       "      <th>Opp_team</th>\n",
       "      <th>Team_score</th>\n",
       "      <th>Opp_team_score</th>\n",
       "      <th>Day</th>\n",
       "      <th>Date</th>\n",
       "      <th>Stadium</th>\n",
       "      <th>Place</th>\n",
       "      <th>Team_coach</th>\n",
       "      <th>...</th>\n",
       "      <th>penalties</th>\n",
       "      <th>opp_BALL GIVEN AWAY</th>\n",
       "      <th>opp_BALL RECOVERED</th>\n",
       "      <th>opp_FOULS COMMITTED</th>\n",
       "      <th>opp_FOULS WON</th>\n",
       "      <th>opp_GOALKEEPER INTERVENTIONS</th>\n",
       "      <th>opp_OFFSIDE</th>\n",
       "      <th>opp_RED CARDS</th>\n",
       "      <th>opp_YELLOW CARDS</th>\n",
       "      <th>opp_penalties</th>\n",
       "    </tr>\n",
       "  </thead>\n",
       "  <tbody>\n",
       "    <tr>\n",
       "      <th>0</th>\n",
       "      <td>Girona</td>\n",
       "      <td>0-0</td>\n",
       "      <td>Valladolid</td>\n",
       "      <td>0</td>\n",
       "      <td>0</td>\n",
       "      <td>Friday</td>\n",
       "      <td>17/08/2018</td>\n",
       "      <td>Municipal de Montilivi</td>\n",
       "      <td>Girona</td>\n",
       "      <td>Eusebio Sacristán</td>\n",
       "      <td>...</td>\n",
       "      <td>0.0</td>\n",
       "      <td>143.0</td>\n",
       "      <td>60.0</td>\n",
       "      <td>20.0</td>\n",
       "      <td>17.0</td>\n",
       "      <td>2.0</td>\n",
       "      <td>1.0</td>\n",
       "      <td>0.0</td>\n",
       "      <td>1.0</td>\n",
       "      <td>0.0</td>\n",
       "    </tr>\n",
       "    <tr>\n",
       "      <th>1</th>\n",
       "      <td>Betis</td>\n",
       "      <td>0-3</td>\n",
       "      <td>Levante</td>\n",
       "      <td>0</td>\n",
       "      <td>3</td>\n",
       "      <td>Friday</td>\n",
       "      <td>17/08/2018</td>\n",
       "      <td>Benito Villamarín</td>\n",
       "      <td>Sevilla</td>\n",
       "      <td>Quique Setién</td>\n",
       "      <td>...</td>\n",
       "      <td>0.0</td>\n",
       "      <td>126.0</td>\n",
       "      <td>63.0</td>\n",
       "      <td>10.0</td>\n",
       "      <td>10.0</td>\n",
       "      <td>8.0</td>\n",
       "      <td>4.0</td>\n",
       "      <td>0.0</td>\n",
       "      <td>2.0</td>\n",
       "      <td>0.0</td>\n",
       "    </tr>\n",
       "    <tr>\n",
       "      <th>2</th>\n",
       "      <td>Celta</td>\n",
       "      <td>1-1</td>\n",
       "      <td>Espanyol</td>\n",
       "      <td>1</td>\n",
       "      <td>1</td>\n",
       "      <td>Saturday</td>\n",
       "      <td>18/08/2018</td>\n",
       "      <td>Balaídos</td>\n",
       "      <td>Pontevedra</td>\n",
       "      <td>Antonio Mohamed</td>\n",
       "      <td>...</td>\n",
       "      <td>0.0</td>\n",
       "      <td>138.0</td>\n",
       "      <td>56.0</td>\n",
       "      <td>14.0</td>\n",
       "      <td>13.0</td>\n",
       "      <td>2.0</td>\n",
       "      <td>1.0</td>\n",
       "      <td>0.0</td>\n",
       "      <td>2.0</td>\n",
       "      <td>0.0</td>\n",
       "    </tr>\n",
       "    <tr>\n",
       "      <th>3</th>\n",
       "      <td>Villarreal</td>\n",
       "      <td>1-2</td>\n",
       "      <td>R. Sociedad</td>\n",
       "      <td>1</td>\n",
       "      <td>2</td>\n",
       "      <td>Saturday</td>\n",
       "      <td>18/08/2018</td>\n",
       "      <td>Estadio de la Cerámica</td>\n",
       "      <td>Castellón</td>\n",
       "      <td>Javier Calleja</td>\n",
       "      <td>...</td>\n",
       "      <td>0.0</td>\n",
       "      <td>132.0</td>\n",
       "      <td>58.0</td>\n",
       "      <td>10.0</td>\n",
       "      <td>16.0</td>\n",
       "      <td>6.0</td>\n",
       "      <td>4.0</td>\n",
       "      <td>0.0</td>\n",
       "      <td>3.0</td>\n",
       "      <td>0.0</td>\n",
       "    </tr>\n",
       "    <tr>\n",
       "      <th>4</th>\n",
       "      <td>Barcelona</td>\n",
       "      <td>3-0</td>\n",
       "      <td>Alavés</td>\n",
       "      <td>3</td>\n",
       "      <td>0</td>\n",
       "      <td>Saturday</td>\n",
       "      <td>18/08/2018</td>\n",
       "      <td>Camp Nou</td>\n",
       "      <td>Barcelona</td>\n",
       "      <td>Ernesto Valverde</td>\n",
       "      <td>...</td>\n",
       "      <td>0.0</td>\n",
       "      <td>105.0</td>\n",
       "      <td>57.0</td>\n",
       "      <td>13.0</td>\n",
       "      <td>5.0</td>\n",
       "      <td>6.0</td>\n",
       "      <td>0.0</td>\n",
       "      <td>0.0</td>\n",
       "      <td>2.0</td>\n",
       "      <td>0.0</td>\n",
       "    </tr>\n",
       "  </tbody>\n",
       "</table>\n",
       "<p>5 rows × 31 columns</p>\n",
       "</div>"
      ],
      "text/plain": [
       "         Team Score     Opp_team Team_score Opp_team_score       Day  \\\n",
       "0      Girona   0-0   Valladolid          0              0    Friday   \n",
       "1       Betis   0-3      Levante          0              3    Friday   \n",
       "2       Celta   1-1     Espanyol          1              1  Saturday   \n",
       "3  Villarreal   1-2  R. Sociedad          1              2  Saturday   \n",
       "4   Barcelona   3-0       Alavés          3              0  Saturday   \n",
       "\n",
       "          Date                  Stadium        Place         Team_coach  ...  \\\n",
       "0   17/08/2018  Municipal de Montilivi        Girona  Eusebio Sacristán  ...   \n",
       "1   17/08/2018       Benito Villamarín       Sevilla      Quique Setién  ...   \n",
       "2   18/08/2018                Balaídos    Pontevedra    Antonio Mohamed  ...   \n",
       "3   18/08/2018  Estadio de la Cerámica     Castellón     Javier Calleja  ...   \n",
       "4   18/08/2018                Camp Nou     Barcelona   Ernesto Valverde  ...   \n",
       "\n",
       "  penalties opp_BALL GIVEN AWAY opp_BALL RECOVERED  opp_FOULS COMMITTED  \\\n",
       "0       0.0               143.0               60.0                 20.0   \n",
       "1       0.0               126.0               63.0                 10.0   \n",
       "2       0.0               138.0               56.0                 14.0   \n",
       "3       0.0               132.0               58.0                 10.0   \n",
       "4       0.0               105.0               57.0                 13.0   \n",
       "\n",
       "   opp_FOULS WON  opp_GOALKEEPER INTERVENTIONS  opp_OFFSIDE  opp_RED CARDS  \\\n",
       "0           17.0                           2.0          1.0            0.0   \n",
       "1           10.0                           8.0          4.0            0.0   \n",
       "2           13.0                           2.0          1.0            0.0   \n",
       "3           16.0                           6.0          4.0            0.0   \n",
       "4            5.0                           6.0          0.0            0.0   \n",
       "\n",
       "   opp_YELLOW CARDS  opp_penalties  \n",
       "0               1.0            0.0  \n",
       "1               2.0            0.0  \n",
       "2               2.0            0.0  \n",
       "3               3.0            0.0  \n",
       "4               2.0            0.0  \n",
       "\n",
       "[5 rows x 31 columns]"
      ]
     },
     "execution_count": 33,
     "metadata": {},
     "output_type": "execute_result"
    }
   ],
   "source": [
    "final.head()"
   ]
  },
  {
   "cell_type": "code",
   "execution_count": 34,
   "metadata": {},
   "outputs": [],
   "source": [
    "final.to_excel('Final.xlsx')"
   ]
  },
  {
   "cell_type": "code",
   "execution_count": null,
   "metadata": {},
   "outputs": [],
   "source": []
  }
 ],
 "metadata": {
  "kernelspec": {
   "display_name": "Python 3",
   "language": "python",
   "name": "python3"
  },
  "language_info": {
   "codemirror_mode": {
    "name": "ipython",
    "version": 3
   },
   "file_extension": ".py",
   "mimetype": "text/x-python",
   "name": "python",
   "nbconvert_exporter": "python",
   "pygments_lexer": "ipython3",
   "version": "3.7.3"
  }
 },
 "nbformat": 4,
 "nbformat_minor": 2
}
